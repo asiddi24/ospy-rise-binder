{
 "cells": [
  {
   "cell_type": "markdown",
   "metadata": {
    "slideshow": {
     "slide_type": "slide"
    }
   },
   "source": [
    "# Welcome to the OceanSpy demo\n",
    "<img src=\"https://github.com/malmans2/oceanspy/raw/master/docs/_static/oceanspy_logo_blue.png\" width=\"50%\" alt=\"OceanSpy\">\n",
    "\n",
    "Press `space` to continue."
   ]
  },
  {
   "cell_type": "code",
   "execution_count": null,
   "metadata": {
    "slideshow": {
     "slide_type": "subslide"
    }
   },
   "outputs": [],
   "source": [
    "%%bash\n",
    "# Download demo dataset.\n",
    "# Shift+Enter to execute, then space for next slide\n",
    "myurl=\"https://livejohnshopkins-my.sharepoint.com/\"\\\n",
    "\":u:/g/personal/malmans2_jh_edu/ETTi4yKjbvxOvraRKaydA3kBy_sOKNmkqGFP61CfsgW_bQ?\"\n",
    "wget -v -O tmp.tar.gz -L ${myurl}download=1 &&\n",
    "tar xvzf tmp.tar.gz &&\n",
    "rm -f tmp.tar.gz"
   ]
  },
  {
   "cell_type": "markdown",
   "metadata": {
    "slideshow": {
     "slide_type": "slide"
    }
   },
   "source": [
    "# About OceanSpy"
   ]
  },
  {
   "cell_type": "markdown",
   "metadata": {
    "slideshow": {
     "slide_type": "subslide"
    }
   },
   "source": [
    "## What is OceanSpy?\n",
    "A Python package to facilitate ocean model data analysis and visualization."
   ]
  },
  {
   "cell_type": "markdown",
   "metadata": {
    "slideshow": {
     "slide_type": "subslide"
    }
   },
   "source": [
    "## Ocean circulation models are becoming increasingly realistic, producing:\n",
    "*  Large volumes of data\n",
    "*  Labelled multi-dimensional arrays\n",
    "*  Arrays on staggered grids"
   ]
  },
  {
   "cell_type": "markdown",
   "metadata": {
    "slideshow": {
     "slide_type": "subslide"
    }
   },
   "source": [
    "## Ocean circulation models are becoming increasingly realistic, producing:\n",
    "* Large volumes of data ⮕ [Dask](https://dask.org/)\n",
    "* Labelled multi-dimensional arrays ⮕ [xarray](http://xarray.pydata.org/)\n",
    "* Arrays on staggered grids ⮕ [xgcm](https://xgcm.readthedocs.io/)\n",
    "\n",
    "### OceanSpy builds on software packages developed by the [Pangeo](https://pangeo.io/) community.\n",
    "###### Pangeo tutorial @ 15:30"
   ]
  },
  {
   "cell_type": "markdown",
   "metadata": {
    "slideshow": {
     "slide_type": "subslide"
    }
   },
   "source": [
    "## Why OceanSpy? \n",
    "To analyze model data in the way observational oceanographers analyze field measurements.\n",
    "\n",
    "<figure>\n",
    "  <img src=\"https://journals.ametsoc.org/na101/home/literatum/publisher/ams/journals/content/bams/2019/15200477-100.9/bams-d-18-0217.1/20190923/images/large/bams-d-18-0217.1-f2.jpeg\"\n",
    "       width=\"80%\" alt=\"IGP\">\n",
    "  <figcaption>Figure from Renfrew et al., 2019.</figcaption>\n",
    "</figure>"
   ]
  },
  {
   "cell_type": "markdown",
   "metadata": {
    "slideshow": {
     "slide_type": "subslide"
    }
   },
   "source": [
    "## How to use OceanSpy?\n",
    "* Locally with your own data.\n",
    "* On remote data-analysis clusters with publicly available data (e.g., [SciServer](https://oceanspy.readthedocs.io/en/latest/sciserver.html) or clouds)."
   ]
  },
  {
   "cell_type": "markdown",
   "metadata": {
    "slideshow": {
     "slide_type": "slide"
    }
   },
   "source": [
    "# Demo dataset\n",
    "\n",
    "<figure>\n",
    "  <img src=\"https://journals.ametsoc.org/na101/home/literatum/publisher/ams/journals/content/phoc/2017/15200485-47.12/jpo-d-17-0129.1/20171212/images/large/jpo-d-17-0129.1-f1.jpeg\"\n",
    "       width=\"80%\" alt=\"IGP\">\n",
    "  <figcaption>Figure from Almansi et al., 2017.</figcaption>\n",
    "</figure>"
   ]
  },
  {
   "cell_type": "markdown",
   "metadata": {
    "slideshow": {
     "slide_type": "subslide"
    }
   },
   "source": [
    "Setup"
   ]
  },
  {
   "cell_type": "code",
   "execution_count": null,
   "metadata": {
    "slideshow": {
     "slide_type": "-"
    }
   },
   "outputs": [],
   "source": [
    "# Import OceanSpy\n",
    "import oceanspy as ospy"
   ]
  },
  {
   "cell_type": "code",
   "execution_count": null,
   "metadata": {
    "slideshow": {
     "slide_type": "fragment"
    }
   },
   "outputs": [],
   "source": [
    "# Import additional packages for plotting\n",
    "# and change some defaults\n",
    "import cartopy.crs as ccrs\n",
    "import matplotlib as mpl\n",
    "import matplotlib.pyplot as plt\n",
    "\n",
    "mpl.rcParams[\"figure.figsize\"] = [10, 6]\n",
    "mpl.rcParams[\"font.size\"] = 15\n",
    "\n",
    "# Hide warnings\n",
    "import warnings\n",
    "\n",
    "warnings.filterwarnings(\"ignore\")"
   ]
  },
  {
   "cell_type": "markdown",
   "metadata": {
    "slideshow": {
     "slide_type": "subslide"
    }
   },
   "source": [
    "Open"
   ]
  },
  {
   "cell_type": "code",
   "execution_count": null,
   "metadata": {
    "slideshow": {
     "slide_type": "-"
    }
   },
   "outputs": [],
   "source": [
    "# Import oceandataset\n",
    "od = ospy.open_oceandataset.from_zarr(\"OSM2020_EGshelfIIseas2km_ERAI_1D\")"
   ]
  },
  {
   "cell_type": "code",
   "execution_count": null,
   "metadata": {
    "slideshow": {
     "slide_type": "fragment"
    }
   },
   "outputs": [],
   "source": [
    "# Show od\n",
    "od"
   ]
  },
  {
   "cell_type": "code",
   "execution_count": null,
   "metadata": {
    "slideshow": {
     "slide_type": "fragment"
    }
   },
   "outputs": [],
   "source": [
    "# Plot bathymetry (Mercator projection)\n",
    "od.plot.horizontal_section(varName=\"Depth\")"
   ]
  },
  {
   "cell_type": "markdown",
   "metadata": {
    "slideshow": {
     "slide_type": "slide"
    }
   },
   "source": [
    "# Use case: Kögur\n",
    "<figure>\n",
    "  <img src=\"http://kogur.whoi.edu/img/array2.png\"\n",
    "       width=\"50%\" alt=\"Kogur\" style=\"background-color: #1c4966;\">\n",
    "  <figcaption>From http://kogur.whoi.edu/</figcaption>\n",
    "</figure>"
   ]
  },
  {
   "cell_type": "markdown",
   "metadata": {
    "slideshow": {
     "slide_type": "subslide"
    }
   },
   "source": [
    "## OceanSpy mooring array\n",
    "<figure>\n",
    "  <img src=\"https://oceanspy.readthedocs.io/en/latest/_images/Kogur_15_1.png\"\n",
    "       width=\"80%\" alt=\"Kogur model\">\n",
    "  <figcaption>From https://oceanspy.readthedocs.io/en/latest/Kogur.html</figcaption>\n",
    "</figure>"
   ]
  },
  {
   "cell_type": "markdown",
   "metadata": {
    "slideshow": {
     "slide_type": "subslide"
    }
   },
   "source": [
    "Subsample"
   ]
  },
  {
   "cell_type": "code",
   "execution_count": null,
   "metadata": {
    "slideshow": {
     "slide_type": "-"
    }
   },
   "outputs": [],
   "source": [
    "# Kögur coordinates\n",
    "lats_Kogur = [68.68, 67.52, 66.49]\n",
    "lons_Kogur = [-26.28, -23.77, -22.99]\n",
    "\n",
    "# Extract mooring array\n",
    "od_moor = od.subsample.mooring_array(Xmoor=lons_Kogur, Ymoor=lats_Kogur)"
   ]
  },
  {
   "cell_type": "code",
   "execution_count": null,
   "metadata": {
    "slideshow": {
     "slide_type": "fragment"
    }
   },
   "outputs": [],
   "source": [
    "# Show the array on the map\n",
    "ax = od.plot.horizontal_section(varName=\"Depth\")\n",
    "X, Y = od_moor.dataset[\"XC\"].squeeze(), od_moor.dataset[\"YC\"].squeeze()\n",
    "ax.plot(X, Y, \"r.\", transform=ccrs.PlateCarree())"
   ]
  },
  {
   "cell_type": "markdown",
   "metadata": {
    "slideshow": {
     "slide_type": "subslide"
    }
   },
   "source": [
    "Plot"
   ]
  },
  {
   "cell_type": "code",
   "execution_count": null,
   "metadata": {
    "slideshow": {
     "slide_type": "-"
    }
   },
   "outputs": [],
   "source": [
    "# T/S diagram color-coded by depth (averaged over time).\n",
    "# Note that density needs to be computed.\n",
    "od_moor.plot.TS_diagram(colorName=\"Z\", meanAxes=\"time\")"
   ]
  },
  {
   "cell_type": "code",
   "execution_count": null,
   "metadata": {
    "slideshow": {
     "slide_type": "fragment"
    }
   },
   "outputs": [],
   "source": [
    "# Using .animate instead of .plot\n",
    "od_moor.animate.TS_diagram(colorName=\"Z\")\n",
    "plt.close()"
   ]
  },
  {
   "cell_type": "markdown",
   "metadata": {
    "slideshow": {
     "slide_type": "subslide"
    }
   },
   "source": [
    "## OceanSpy ship survey\n",
    "<figure>\n",
    "  <img src=\"https://web.whoi.edu/all0118/wp-content/uploads/sites/129/2019/02/aoY1Qa3w-1024x683.jpeg\"\n",
    "       width=\"50%\" alt=\"Kogur\">\n",
    "  <figcaption>From https://web.whoi.edu/all0118</figcaption>\n",
    "</figure>"
   ]
  },
  {
   "cell_type": "markdown",
   "metadata": {
    "slideshow": {
     "slide_type": "subslide"
    }
   },
   "source": [
    "Subsample"
   ]
  },
  {
   "cell_type": "code",
   "execution_count": null,
   "metadata": {
    "slideshow": {
     "slide_type": "-"
    }
   },
   "outputs": [],
   "source": [
    "# Extract survey\n",
    "# Note that this function interpolates, getting rid of staggered grids\n",
    "od_surv = od.subsample.survey_stations(\n",
    "    Xsurv=lons_Kogur, Ysurv=lats_Kogur, delta=2  # 2km resolution\n",
    ")"
   ]
  },
  {
   "cell_type": "code",
   "execution_count": null,
   "metadata": {
    "slideshow": {
     "slide_type": "fragment"
    }
   },
   "outputs": [],
   "source": [
    "# Show the survey on the map\n",
    "ax = od.plot.horizontal_section(varName=\"Depth\")\n",
    "X, Y = od_surv.dataset[\"XC\"], od_surv.dataset[\"YC\"]\n",
    "ax.plot(X, Y, \"r.\", transform=ccrs.PlateCarree())"
   ]
  },
  {
   "cell_type": "markdown",
   "metadata": {
    "slideshow": {
     "slide_type": "subslide"
    }
   },
   "source": [
    "Compute and plot"
   ]
  },
  {
   "cell_type": "code",
   "execution_count": null,
   "metadata": {
    "slideshow": {
     "slide_type": "-"
    }
   },
   "outputs": [],
   "source": [
    "# Rotate velocities\n",
    "od_surv = od_surv.compute.survey_aligned_velocities()"
   ]
  },
  {
   "cell_type": "code",
   "execution_count": null,
   "metadata": {
    "slideshow": {
     "slide_type": "fragment"
    }
   },
   "outputs": [],
   "source": [
    "# Vertical section of temperature with isopycnals\n",
    "od_surv.plot.vertical_section(\n",
    "    varName=\"Temp\",\n",
    "    contourName=\"Sigma0\",\n",
    "    meanAxes=\"time\",\n",
    "    center=False,\n",
    "    cmap=\"Spectral_r\",\n",
    ")"
   ]
  },
  {
   "cell_type": "code",
   "execution_count": null,
   "metadata": {
    "slideshow": {
     "slide_type": "fragment"
    }
   },
   "outputs": [],
   "source": [
    "# Animation of through section velocity\n",
    "od_surv.animate.vertical_section(\n",
    "    varName=\"ort_Vel\", contourName=\"Sigma0\", robust=True\n",
    ")\n",
    "plt.close()"
   ]
  },
  {
   "cell_type": "markdown",
   "metadata": {
    "slideshow": {
     "slide_type": "slide"
    }
   },
   "source": [
    "# OceanSpy diagnostics overview"
   ]
  },
  {
   "cell_type": "markdown",
   "metadata": {
    "slideshow": {
     "slide_type": "-"
    }
   },
   "source": [
    "| Diagnostic name | Description     |\n",
    "|-:|:---|\n",
    "| Gradient | $\\displaystyle{\\nabla \\chi = \\frac{\\partial \\chi}{\\partial x}\\mathbf{\\hat{x}} + \\frac{\\partial \\chi}{\\partial y}\\mathbf{\\hat{y}} + \\frac{\\partial \\chi}{\\partial z}\\mathbf{\\hat{z}} }$ |\n",
    "| Divergence | $\\displaystyle{\\nabla \\cdot {\\bf F} = \\frac{\\partial F_x}{\\partial x} + \\frac{\\partial F_y}{\\partial y} + \\frac{\\partial F_z}{\\partial z}}$ |\n",
    "| Curl | $\\displaystyle{\\nabla \\times {\\bf F} =} \\scriptstyle{\\left( \\frac{\\partial F_z}{\\partial y}  - \\frac{\\partial F_y}{\\partial z} \\right)}\\displaystyle{\\mathbf{\\hat{x}} + }\\scriptstyle{\\left( \\frac{\\partial F_x}{\\partial z}  - \\frac{\\partial F_z}{\\partial x} \\right)}\\displaystyle{\\mathbf{\\hat{y}} +}\\scriptstyle{ \\left( \\frac{\\partial F_y}{\\partial x}  - \\frac{\\partial F_x}{\\partial y} \\right)}\\displaystyle{\\mathbf{\\hat{z}} }$ |\n",
    "| Scalar Laplacian | $\\displaystyle{\\nabla^2 \\chi = \\nabla \\cdot \\nabla \\chi}$ |\n",
    "| Integral | $\\displaystyle{I = \\int \\cdots \\int \\chi \\; d x_1 \\cdots d x_n}$ |\n",
    "| Potential density anomaly | $\\displaystyle{\\sigma_\\theta = \\rho \\left(S, \\theta, \\text{pressure} = 0 \\text{ db} \\right) -1000 \\text{ kgm}^{-3}}$ |\n",
    "| Brunt-Väisälä frequency | $\\displaystyle{N = \\left(-\\frac{g}{\\rho_0}\\frac{\\partial\\sigma_\\theta}{\\partial z}\\right)^{1/2}}$ |\n",
    "| Velocity magnitude | $\\displaystyle{||\\mathbf{u}||=\\left(u^2+v^2+w^2\\right)^{1/2}}$ |\n",
    "| Relative vorticity | $\\displaystyle{\\bf \\omega} = \\left( \\zeta_H, \\zeta \\right) = \\nabla \\times {\\bf u}$ |\n",
    "| Kinetic energy | $\\displaystyle{KE = \\frac{1}{2}\\left(u^2 + v^2 + \\epsilon_{nh} w^2\\right)}$ |\n",
    "| Eddy kinetic energy | $\\displaystyle{EKE = \\frac{1}{2}\\left[ (u-\\overline{u})^2 + (v-\\overline{v})^2 + \\epsilon_{nh} (w-\\overline{w})^2 \\right]}$ |\n",
    "| Horizontal divergence | $\\displaystyle{\\nabla_{H} \\cdot {\\bf u} = \\frac{\\partial u}{\\partial x}+\\frac{\\partial v}{\\partial y} }$  |\n",
    "| Horizontal shear strain | $\\displaystyle{S_s = \\frac{\\partial v}{\\partial x}+\\frac{\\partial u}{\\partial y}}$ |\n",
    "| Horizontal normal strain | $\\displaystyle{S_n = \\frac{\\partial u}{\\partial x}-\\frac{\\partial v}{\\partial y}}$ | \n",
    "| Okubo-Weiss parameter | $\\displaystyle{OW = S_n^2 + S_s^2 - \\zeta^2}$ |\n",
    "| Ertel potential vorticity | $\\displaystyle{Q = - \\frac{\\omega \\cdot \\nabla \\rho}{\\rho}  =}\\displaystyle{(f + \\zeta)\\frac{N^2}{g} + \\frac{\\left(\\zeta_H+e\\hat{\\mathbf{y}}\\right)\\cdot\\nabla_H\\rho}{\\rho_0}}$ |\n",
    "|<img width=100/>|<img width=300/>|"
   ]
  },
  {
   "cell_type": "markdown",
   "metadata": {
    "slideshow": {
     "slide_type": "subslide"
    }
   },
   "source": [
    "Ertel PV: $\\displaystyle{Q = - \\frac{\\omega \\cdot \\nabla \\rho}{\\rho}  =}\\displaystyle{(f + \\zeta)\\frac{N^2}{g} + \\frac{\\left(\\zeta_H+e\\hat{\\mathbf{y}}\\right)\\cdot\\nabla_H\\rho}{\\rho_0}}$"
   ]
  },
  {
   "cell_type": "code",
   "execution_count": null,
   "metadata": {},
   "outputs": [],
   "source": [
    "# Compute Ertel PV in the top 100m\n",
    "od100m = od.subsample.cutout(ZRange=[0, -100])\n",
    "od100m = od100m.compute.Ertel_potential_vorticity()"
   ]
  },
  {
   "cell_type": "code",
   "execution_count": null,
   "metadata": {
    "slideshow": {
     "slide_type": "fragment"
    }
   },
   "outputs": [],
   "source": [
    "# Plot Ertel PV (averaged over Z).\n",
    "# Note that the vertical mean is weighted by OceanSpy.\n",
    "# Important because the vertical resolution of this model varies!\n",
    "od100m.animate.horizontal_section(\n",
    "    varName=\"Ertel_PV\", meanAxes=\"Z\", robust=True, center=False, cmap=\"inferno\"\n",
    ")\n",
    "plt.close()"
   ]
  },
  {
   "cell_type": "markdown",
   "metadata": {
    "slideshow": {
     "slide_type": "slide"
    }
   },
   "source": [
    "# More info:\n",
    "* Documentation: https://oceanspy.readthedocs.io\n",
    "* GitHub: https://github.com/malmans2/oceanspy\n",
    "* JOSS paper: https://doi.org/10.21105/joss.01506"
   ]
  }
 ],
 "metadata": {
  "celltoolbar": "Slideshow",
  "kernelspec": {
   "display_name": "Python 3",
   "language": "python",
   "name": "python3"
  },
  "language_info": {
   "codemirror_mode": {
    "name": "ipython",
    "version": 3
   },
   "file_extension": ".py",
   "mimetype": "text/x-python",
   "name": "python",
   "nbconvert_exporter": "python",
   "pygments_lexer": "ipython3",
   "version": "3.6.7"
  },
  "livereveal": {
   "autolaunch": true,
   "scroll": true
  }
 },
 "nbformat": 4,
 "nbformat_minor": 2
}
